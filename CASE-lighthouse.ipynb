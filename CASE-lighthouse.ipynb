{
  "nbformat": 4,
  "nbformat_minor": 0,
  "metadata": {
    "colab": {
      "provenance": [],
      "authorship_tag": "ABX9TyMtT8Gr1Z5rH3oDOkLljwqV",
      "include_colab_link": true
    },
    "kernelspec": {
      "name": "python3",
      "display_name": "Python 3"
    },
    "language_info": {
      "name": "python"
    }
  },
  "cells": [
    {
      "cell_type": "markdown",
      "metadata": {
        "id": "view-in-github",
        "colab_type": "text"
      },
      "source": [
        "<a href=\"https://colab.research.google.com/github/GrzegorzAndrzejczak/Programowanie-w-Pythonie/blob/main/CASE-lighthouse.ipynb\" target=\"_parent\"><img src=\"https://colab.research.google.com/assets/colab-badge.svg\" alt=\"Open In Colab\"/></a>"
      ]
    },
    {
      "cell_type": "markdown",
      "source": [],
      "metadata": {
        "id": "GwY-QbaptofX"
      }
    },
    {
      "cell_type": "markdown",
      "source": [
        "### Dane: lighthouse.csv"
      ],
      "metadata": {
        "id": "u3t4Mee4vDCU"
      }
    },
    {
      "cell_type": "markdown",
      "source": [],
      "metadata": {
        "id": "QeS1u-5yvAwx"
      }
    },
    {
      "cell_type": "code",
      "source": [
        "import numpy as np\n",
        "import pandas as pd\n",
        "import matplotlib.pyplot as plt\n",
        "\n",
        "np.random.seed(1)  # for repeatability\n",
        "# Load the data on the recorded positions and plot their distribution as an histogram.\n",
        "d = pd.read_csv('sample_data/lighthouse.csv')\n",
        "N = 5  # number of measurements\n",
        "D = d.values[:N]\n",
        "print(D,f\"średnio: {D.mean()}\")\n",
        "\n",
        "ndim = 2  # number of parameters in the model\n",
        "nwalkers = 100  # number of MCMC walkers\n",
        "nburn = 500  # \"burn-in\" period to let chains stabilize\n",
        "nsteps = 10000  # number of MCMC steps to take - czyli zostaje 200:10000\n",
        "\n",
        "\n",
        "def log_prior(a,b):\n",
        "    mask = b<=0\n",
        "    b[mask] = 0\n",
        "    result = -b**(-1)\n",
        "    # result[mask] = -np.inf\n",
        "    return result  #   //flat prior, składnik 1/b odsuwa od b=0\n",
        "\n",
        "\n",
        "def log_likelihood(a, b, Data):\n",
        "    mask = b<=0\n",
        "    b[mask] = 0\n",
        "    result = -np.sum(np.log((Data - a)**2 + b**2)-np.log(b), axis=0)\n",
        "    # result[mask] = -np.inf\n",
        "    return result\n",
        "\n",
        "\n",
        "def log_posterior(a, b, Data):\n",
        "    return log_prior(a, b) + log_likelihood(a, b, Data)\n",
        "\n",
        "\n",
        "def compute_log_prob(coords):\n",
        "    \"\"\"Calculate the vector of log-probability for the walkers\n",
        "    Args:\n",
        "      coords: (ndarray[..., ndim]) The position vector in parameter\n",
        "          space where the probability should be calculated.\n",
        "    \"\"\"\n",
        "    log_prob = np.array([log_posterior(*p, D) for p in coords])\n",
        "    # to będzie spowalniać dla większego rozmiaru próbek - nwalkers\n",
        "    return log_prob\n",
        "\n"
      ],
      "metadata": {
        "id": "t22j22XBu6to",
        "outputId": "1978effa-6ee2-4704-a08b-95ec487fc39d",
        "colab": {
          "base_uri": "https://localhost:8080/"
        }
      },
      "execution_count": 4,
      "outputs": [
        {
          "output_type": "stream",
          "name": "stdout",
          "text": [
            "[[ 31.04551878]\n",
            " [ 39.15193522]\n",
            " [  1.81317194]\n",
            " [-10.04647801]\n",
            " [ -2.2359284 ]] średnio: 11.945643906451632\n"
          ]
        }
      ]
    }
  ]
}