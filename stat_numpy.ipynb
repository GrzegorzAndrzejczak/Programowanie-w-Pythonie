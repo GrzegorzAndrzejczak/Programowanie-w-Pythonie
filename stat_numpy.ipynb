{
 "cells": [
  {
   "attachments": {},
   "cell_type": "markdown",
   "metadata": {},
   "source": [
    "## Elementary Statistics in numpy\n",
    "### Order statistics\n",
    "**Function**   |       **Action/Result**\n",
    "-----------------   | -----------------\n",
    "ptp( a, axis=None, ...)   |Range of values (maximum - minimum) along an axis.  \n",
    "percentile( a, q, axis=None, ..., method='linear', keepdims=False)  |Compute the q-th percentile of the data along the specified axis.\n",
    "quantile( a, q, axis=None, ..., method='linear', keepdims=False)   |Compute the q-th quantile of the data along the specified axis.\n",
    "\n",
    "**keepdims:** bool, optional --\n",
    "If this is set to True, the axes which are reduced are left in the result as dimensions with size one. With this option, the result will broadcast correctly against the input array.\n",
    "\n",
    "### Averages and variances\n",
    "**Function**   |       **Action/Result**\n",
    "-----------------   | -----------------\n",
    "median( a, axis=None, ..., keepdims=False)       |       Compute the median along the specified axis.\n",
    "average( a, axis=None, weights=None, ..., keepdims=False)         |       Compute the weighted average along the specified axis.\n",
    "mean( a, axis=None, ..., keepdims=False, where)            |       Compute the arithmetic mean along the specified axis.\n",
    "std( a, axis=None, ..., ddof, keepdims=False, where)       |       Compute the standard deviation along the specified axis.\n",
    "var( a, axis=None, ..., ddof, keepdims=False, where)       |       Compute the variance along the specified axis.\n",
    "\n",
    "**median:** Given a vector $V$ of length $N$, the median of $V$ is the middle value of a sorted copy of $V, V_{sorted}$ - i e., $V_{sorted}\\left[\\frac{N-1}{2}\\right]$, when $N$ is odd, and the average of the two middle values of $V_{sorted}$ when $N$ is even.\n",
    "\n",
    "**avg = sum(a * weights) / sum(weights)**  \n",
    "\n",
    "**where:** array_like of bool, optional -- \n",
    "Elements to include in the mean. \n",
    "\n",
    "**ddof:** int, optional --\n",
    "Means *Delta Degrees of Freedom*. The divisor used in calculations is N - ddof, where N represents the number of elements. By default ddof is zero."
   ]
  },
  {
   "attachments": {},
   "cell_type": "markdown",
   "metadata": {},
   "source": [
    "\n",
    "### **Histograms**\n",
    "**Functions**   |       **Actions**\n",
    "-----------------   | -----------------\n",
    "numpy.histogram( a, bins=10, range=None, density=None, weights=None)  |        Compute the histogram of a dataset.\n",
    "numpy.histogram2d( x, y, bins=10, range=None, density=None, weights=None)  |   Compute the bi-dimensional histogram of two data samples.\n",
    "histogram_bin_edges( a, bins=10, range=None, weights=None) | Function to calculate only the edges of the bins used by the histogram function.\n",
    "\n",
    "The methods to estimate the optimal number of bins are well founded in literature, and are inspired by the choices R provides for histogram visualisation. Note that having the number of bins proportional to \n",
    "$n^{1/3}$ is asymptotically optimal, which is why it appears in most estimators.  \n",
    "If bins is a string from the list below, histogram_bin_edges will use the method chosen to calculate the optimal bin width and consequently the number of bins (see Notes for more detail on the estimators) from the data that falls within the requested range. While the bin width will be optimal for the actual data in the range, the number of bins will be computed to fill the entire range, including the empty portions. For visualisation, using the ‘auto’ option is suggested. Weighted data is not supported for automated bin size selection.\n",
    "\n",
    "* ‘auto’\n",
    "Maximum of the ‘sturges’ and ‘fd’ estimators. Provides good all around performance.\n",
    "\n",
    "* ‘fd’ (Freedman Diaconis Estimator)\n",
    "Robust (resilient to outliers) estimator that takes into account data variability and data size.\n",
    "\n",
    "* ‘doane’\n",
    "An improved version of Sturges’ estimator that works better with non-normal datasets.\n",
    "\n",
    "* ‘scott’\n",
    "Less robust estimator that takes into account data variability and data size.\n",
    "\n",
    "* ‘stone’\n",
    "Estimator based on leave-one-out cross-validation estimate of the integrated squared error. Can be regarded as a generalization of Scott’s rule.\n",
    "\n",
    "* ‘rice’\n",
    "Estimator does not take variability into account, only data size. Commonly overestimates number of bins required.\n",
    "\n",
    "* ‘sturges’\n",
    "R’s default method, only accounts for data size. Only optimal for gaussian data and underestimates number of bins for large non-gaussian datasets.\n",
    "\n",
    "* ‘sqrt’\n",
    "Square root (of data size) estimator, used by Excel and other programs for its speed and simplicity."
   ]
  },
  {
   "attachments": {},
   "cell_type": "markdown",
   "metadata": {},
   "source": [
    "\n",
    "### Correlating\n",
    "**Function**   |       **Action/Value**\n",
    "-----------------   | -----------------\n",
    "cov( m, y=None, rowvar=True, bias=False, ddof=None, fweights=None, aweights=None, ...) |Estimate a covariance matrix, given data and weights.\n",
    "corrcoef( x, y=None, rowvar=True) | Return Pearson product-moment correlation coefficients.\n",
    "\n",
    "* **bias:** bool, optional  \n",
    "Default normalization (False) is by $N - 1$, where $N$ is the number of observations given (unbiased estimate). If bias is True, then normalization is by $N$. These values can be overridden by using the keyword **ddof** in numpy versions >= 1.5.\n",
    "* The relationship between the *correlation coefficient* matrix, $R$, and the *covariance matrix*, $C$, is\n",
    "$$R_{ij}=\\frac{C_{ij}}{\\sqrt{C_{ii}C_{jj}}}$$\n"
   ]
  },
  {
   "cell_type": "markdown",
   "metadata": {},
   "source": []
  }
 ],
 "metadata": {
  "language_info": {
   "name": "python"
  },
  "orig_nbformat": 4
 },
 "nbformat": 4,
 "nbformat_minor": 2
}
