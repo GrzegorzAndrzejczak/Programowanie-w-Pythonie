{
  "nbformat": 4,
  "nbformat_minor": 0,
  "metadata": {
    "colab": {
      "provenance": [],
      "authorship_tag": "ABX9TyPE9rRXMjZAiej4jSFbbYBY",
      "include_colab_link": true
    },
    "kernelspec": {
      "name": "python3",
      "display_name": "Python 3"
    },
    "language_info": {
      "name": "python"
    }
  },
  "cells": [
    {
      "cell_type": "markdown",
      "metadata": {
        "id": "view-in-github",
        "colab_type": "text"
      },
      "source": [
        "<a href=\"https://colab.research.google.com/github/GrzegorzAndrzejczak/Programowanie-w-Pythonie/blob/main/CASE_lighthouse_emcee.ipynb\" target=\"_parent\"><img src=\"https://colab.research.google.com/assets/colab-badge.svg\" alt=\"Open In Colab\"/></a>"
      ]
    },
    {
      "cell_type": "markdown",
      "source": [
        "## dane: lighthouse.csv\n",
        "### 2. MCMC - wg emcee\n",
        "\n",
        "#### StrechMove\n",
        "... a przy okazji zmiana podejścia do parametrów"
      ],
      "metadata": {
        "id": "cxp1-bIkzc5P"
      }
    },
    {
      "cell_type": "code",
      "execution_count": 1,
      "metadata": {
        "id": "vxpS0Mpwy46j"
      },
      "outputs": [],
      "source": [
        "import warnings\n",
        "def log_prior(ab):\n",
        "    where = ab[:, 1]<0\n",
        "    ab[where, 1] = 0\n",
        "    return -ab[:, 1]**(-1)\n",
        "\n",
        "def log_likelihood(ab, Data):\n",
        "    where = ab[:, 1]<0\n",
        "    ab[where,1] = 0\n",
        "    return -np.sum(np.log((Data - ab[:,0])**2 + ab[:,1]**2)-np.log(ab[:,1]), axis=0)\n",
        "\n",
        "def log_posterior(ab, Data):\n",
        "    warnings.simplefilter(\"ignore\")\n",
        "    return log_prior(ab) + log_likelihood(ab, Data)\n",
        "\n",
        "def compute_log_prob(coords):\n",
        "    return log_posterior(coords, D)"
      ]
    },
    {
      "cell_type": "code",
      "source": [
        "import numpy as np\n",
        "import pandas as pd\n",
        "import matplotlib.pyplot as plt\n",
        "\n",
        "d = pd.read_csv('sample_data/lighthouse.csv')\n",
        "N = 5  # number of measurements\n",
        "D = d.values[:N]\n",
        "\n",
        "ndim = 2  # number of parameters in the model\n",
        "nwalkers = 10000  # number of MCMC walkers\n",
        "nburn = 200  # \"burn-in\" period to let chains stabilize\n",
        "nsteps = 1000  # number of MCMC steps to take - czyli zostaje 200:1000\n",
        "\n",
        "# we'll start at random locations\n",
        "starting_guesses = np.random.rand(nwalkers, ndim)*20\n"
      ],
      "metadata": {
        "id": "AlOmHO6_1oKF"
      },
      "execution_count": 15,
      "outputs": []
    },
    {
      "cell_type": "markdown",
      "source": [
        "Koncepcja **StretchMove** pochodzi z pracy ...\n",
        "\n",
        "i zakłada afiniczne modyfikacje w przestrzeni próbek - w kierunku zależnym od poprzedniego ogniwa łańcucha (**_bez dowodu!_**)"
      ],
      "metadata": {
        "id": "LHAbPsPUzajw"
      }
    },
    {
      "cell_type": "code",
      "source": [
        "\n",
        "def get_proposal(sampl, complement, random):       # wg. StretchMove\n",
        "    complement = np.concatenate(complement, axis=0)\n",
        "    Ns, Nc = len(sampl), len(complement)\n",
        "    ndim_ = sampl.shape[1]              # a = 2.0\n",
        "    zz = (random.rand(Ns) + 1)**2 /2    # ((a - 1.0) * random.rand(Ns) + 1) ** 2.0 /a  \\in  [1/a,a]\n",
        "    factors = (ndim_ - 1.0) * np.log(zz)\n",
        "    rint = random.randint(Nc, size=(Ns,))\n",
        "    return complement[rint] - (complement[rint] - sampl) * zz[:, None], factors\n",
        "\n",
        "\n",
        "# propose wg Move.update()\n",
        "def update(old_state, new_state, accepted_, subset=None):\n",
        "    \"\"\"Update a given subset of the ensemble with an accepted proposal \"\"\"\n",
        "    if subset is None:\n",
        "        subset = np.ones(len(old_state.coords), dtype=bool)\n",
        "    m1 = subset & accepted_\n",
        "    m2 = accepted_[subset]\n",
        "    old_state.coords[m1] = new_state.coords[m2]\n",
        "    old_state.log_prob[m1] = new_state.log_prob[m2]\n",
        "    return old_state\n",
        "\n",
        "_random = np.random.RandomState(42)   # for repeatability\n",
        "random_state = _random.__getstate__()\n"
      ],
      "metadata": {
        "id": "63aAFMmK3eJc"
      },
      "execution_count": 8,
      "outputs": []
    },
    {
      "cell_type": "markdown",
      "source": [
        "Konstukcja korzysta z dwu klas typu *namedtuple*:"
      ],
      "metadata": {
        "id": "68DtGWiq45gL"
      }
    },
    {
      "cell_type": "code",
      "source": [
        "from collections import namedtuple\n",
        "from copy import deepcopy\n",
        "from time import time_ns\n",
        "\n",
        "Model = namedtuple(\n",
        "    \"Model\", (\"compute_log_prob_fn\", \"map_fn\", \"random\")\n",
        ")\n",
        "model = Model(compute_log_prob, map, _random)\n",
        "State = namedtuple(\n",
        "    \"State\", (\"coords\", \"log_prob\", \"random_state\")\n",
        ")\n",
        "state = State(deepcopy(starting_guesses), compute_log_prob(starting_guesses), random_state)\n"
      ],
      "metadata": {
        "id": "SPkQTkX35eqS"
      },
      "execution_count": 16,
      "outputs": []
    },
    {
      "cell_type": "code",
      "source": [
        "# nwalkers = 10000\n",
        "chain = np.empty((nwalkers, nsteps, ndim), dtype=np.float32)\n",
        "\n",
        "nsteps = 500\n",
        "t0=time_ns()\n",
        "for i in range(nsteps):\n",
        "    # propose wg RedBlueMove.propose(self, model, state):\n",
        "    # Split the ensemble in 100/or half and iterate over these parts.\n",
        "    nsplits = 2; randomize_split = True\n",
        "    accepted = np.zeros(nwalkers, dtype=bool)\n",
        "    all_inds = np.arange(nwalkers)\n",
        "    inds = all_inds % nsplits\n",
        "    if randomize_split:\n",
        "        model.random.shuffle(inds)\n",
        "    for split in range(nsplits):            # Get the two halves of the ensemble.\n",
        "        S1 = inds == split\n",
        "        sets = [state.coords[inds == j] for j in range(nsplits)]    # state się zmienia!\n",
        "        s = sets[split]         # (30,1)\n",
        "        c = sets[:split] + sets[split + 1:]     # lisa, c[0].shape = (30, 1)\n",
        "\n",
        "        # Get the move-specific proposal.\n",
        "        q, factors = get_proposal(s, c, model.random)\n",
        "\n",
        "        # Compute the lnprobs of the proposed position.\n",
        "        new_log_probs = model.compute_log_prob_fn(q)\n",
        "\n",
        "        # Loop over the walkers and update them accordingly.\n",
        "        for _, (j, f, nlp) in enumerate(\n",
        "                zip(all_inds[S1], factors, new_log_probs)\n",
        "        ):\n",
        "            lnpdiff = f + nlp - state.log_prob[j]\n",
        "            if lnpdiff > np.log(model.random.rand()):   # <------\n",
        "                accepted[j] = True\n",
        "\n",
        "        new_state = State(q, new_log_probs, model.random)\n",
        "\n",
        "        state = update(state, new_state, accepted, S1)\n",
        "        chain[:, i, :] = state.coords\n",
        "t1=time_ns()\n",
        "print(f'time={(t1-t0)/10**9:5.1f}')\n",
        "\n",
        "# nburn = 10000\n",
        "# sample = chain[:,nburn:, :].reshape(-1,2)   # (50000,2) zamiast (50,1000,2)\n",
        "sample = chain[-2]\n",
        "sample_ = sample    # [:50000]\n",
        "from matplotlib import pyplot as plt\n",
        "fig, ax = plt.subplots()\n",
        "# ax.scatter(*sample.T, s=.03)      # albo\n",
        "ax.plot(*sample_.T, \",k\")\n",
        "logR = compute_log_prob(sample_)\n",
        "# ax.tricontour(*sample_.T, logR, levels=25, linewidths=0.5, colors='k')\n",
        "# cntr2 = ax.tricontourf(*sample_.T, logR, levels=25, cmap=\"RdBu_r\")\n",
        "# ax.tricontour(*sample.T, prob_sample, levels=14, linewidths=0.5, colors='k')\n",
        "# cntr2 = ax.tricontourf(*sample.T, prob_sample, levels=14, cmap=\"RdBu_r\")\n",
        "# print(cntr2.levels)\n",
        "# fig.colorbar(cntr2, ax=ax)\n",
        "ax.set_xlim(-30,40);\n",
        "ax.set_ylim(0,70);\n",
        "plt.show(block=False)\n",
        "sample_.mean(axis=0)    # 2000:[12.058146, 37.69016 ], 50000?:[ 8.288431, 28.831856]\n"
      ],
      "metadata": {
        "colab": {
          "base_uri": "https://localhost:8080/",
          "height": 472
        },
        "id": "dPAcX1Qk_JQZ",
        "outputId": "ef472a28-34ea-4f0a-c313-a1fed06757d8"
      },
      "execution_count": 17,
      "outputs": [
        {
          "output_type": "stream",
          "name": "stdout",
          "text": [
            "time= 19.1\n"
          ]
        },
        {
          "output_type": "display_data",
          "data": {
            "text/plain": [
              "<Figure size 640x480 with 1 Axes>"
            ],
            "image/png": "[encoded data removed]"
          },
          "metadata": {}
        },
        {
          "output_type": "execute_result",
          "data": {
            "text/plain": [
              "array([ 4.3880663, 12.680704 ], dtype=float32)"
            ]
          },
          "metadata": {},
          "execution_count": 17
        }
      ]
    }
  ]
}