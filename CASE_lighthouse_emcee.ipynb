{
  "nbformat": 4,
  "nbformat_minor": 0,
  "metadata": {
    "colab": {
      "provenance": [],
      "authorship_tag": "ABX9TyPQOUV3Rf94DTk39seRzQ89",
      "include_colab_link": true
    },
    "kernelspec": {
      "name": "python3",
      "display_name": "Python 3"
    },
    "language_info": {
      "name": "python"
    }
  },
  "cells": [
    {
      "cell_type": "markdown",
      "metadata": {
        "id": "view-in-github",
        "colab_type": "text"
      },
      "source": [
        "<a href=\"https://colab.research.google.com/github/GrzegorzAndrzejczak/Programowanie-w-Pythonie/blob/main/CASE_lighthouse_emcee.ipynb\" target=\"_parent\"><img src=\"https://colab.research.google.com/assets/colab-badge.svg\" alt=\"Open In Colab\"/></a>"
      ]
    },
    {
      "cell_type": "markdown",
      "source": [
        "## dane: lighthouse.csv\n",
        "### 2. MCMC - wg emcee\n",
        "\n",
        "#### StrechMove\n",
        "... a przy okazji zmiana podejścia do parametrów (w następ"
      ],
      "metadata": {
        "id": "cxp1-bIkzc5P"
      }
    },
    {
      "cell_type": "code",
      "execution_count": null,
      "metadata": {
        "id": "vxpS0Mpwy46j"
      },
      "outputs": [],
      "source": [
        "warnings.simplefilter(\"ignore\")\n",
        "def log_prior(ab):\n",
        "    where = ab[:, 1]<0\n",
        "    ab[where, 1] = 0\n",
        "    return -ab[:, 1]**(-1)\n",
        "\n",
        "def log_likelihood(ab, Data):\n",
        "    where = ab[:, 1]<0\n",
        "    ab[where,1] = 0\n",
        "    return -np.sum(np.log((Data - ab[:,0])**2 + ab[:,1]**2)-np.log(ab[:,1]), axis=0)\n",
        "\n",
        "def log_posterior(ab, Data):\n",
        "    warnings.simplefilter(\"ignore\")\n",
        "    return log_prior(ab) + log_likelihood(ab, Data)\n",
        "\n",
        "def compute_log_prob(coords):\n",
        "    return log_posterior(coords, D)"
      ]
    },
    {
      "cell_type": "markdown",
      "source": [],
      "metadata": {
        "id": "LHAbPsPUzajw"
      }
    }
  ]
}