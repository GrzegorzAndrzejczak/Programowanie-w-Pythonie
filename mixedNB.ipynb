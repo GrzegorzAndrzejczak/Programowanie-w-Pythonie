{
 "cells": [
  {
   "cell_type": "code",
   "execution_count": 58,
   "metadata": {},
   "outputs": [],
   "source": [
    "import numpy as np\n",
    "import pandas as pd\n",
    "from sklearn.naive_bayes import CategoricalNB\n",
    "from sklearn.preprocessing import OrdinalEncoder\n",
    "from sklearn.linear_model import LogisticRegression\n",
    "from sklearn.metrics import roc_curve, roc_auc_score\n",
    "from numbers import Number\n"
   ]
  },
  {
   "cell_type": "markdown",
   "metadata": {},
   "source": [
    "## Kilka rozszerzeń klasy **CategoricalNB**\n",
    "**Cel:**  \n",
    "- Klasa powinna obsługiwać klasyfikację danych kategorycznych - poprzez dedykowany obiekt klasy **OrdinalEncoder**"
   ]
  },
  {
   "cell_type": "code",
   "execution_count": 59,
   "metadata": {},
   "outputs": [
    {
     "name": "stdout",
     "output_type": "stream",
     "text": [
      "     Outlook Temperature Humidity  Windy Play\n",
      "0      sunny         hot     high  False   no\n",
      "1      sunny         hot     high   True   no\n",
      "2   overcast         hot     high  False  yes\n",
      "3      rainy        mild     high  False  yes\n",
      "4      rainy        cool   normal  False  yes\n",
      "5      rainy        cool   normal   True   no\n",
      "6   overcast        cool   normal   True  yes\n",
      "7      sunny        mild     high  False   no\n",
      "8      sunny        cool   normal  False  yes\n",
      "9      rainy        mild   normal  False  yes\n",
      "10     sunny        mild   normal   True  yes\n",
      "11  overcast        mild     high   True  yes\n",
      "12  overcast         hot   normal  False  yes\n",
      "13     rainy        mild     high   True   no\n",
      "Decyzje:  ['yes' 'no']\n"
     ]
    }
   ],
   "source": [
    "\n",
    "data = pd.read_csv(\"../data/credit-g.csv\")\n",
    "data = pd.read_csv(\"../data/golf_df.csv\")\n",
    "print(data)\n",
    "X = data.iloc[:, :-1].values\n",
    "y = data.iloc[:, -1].values\n",
    "ylab = np.unique(y)[::-1]\n",
    "y = (y == 'no').astype(int)\n",
    "print(\"Decyzje: \",ylab)"
   ]
  },
  {
   "cell_type": "code",
   "execution_count": 60,
   "metadata": {},
   "outputs": [
    {
     "name": "stdout",
     "output_type": "stream",
     "text": [
      "Attributes:\n",
      "['overcast' 'rainy' 'sunny']\n",
      "['cool' 'hot' 'mild']\n",
      "['high' 'normal']\n",
      "[False True]\n",
      "Data:\n",
      "[[2. 1. 0. 0.]\n",
      " [2. 1. 0. 1.]\n",
      " [0. 1. 0. 0.]\n",
      " [1. 2. 0. 0.]\n",
      " [1. 0. 1. 0.]\n",
      " [1. 0. 1. 1.]\n",
      " [0. 0. 1. 1.]\n",
      " [2. 2. 0. 0.]\n",
      " [2. 0. 1. 0.]\n",
      " [1. 2. 1. 0.]\n",
      " [2. 2. 1. 1.]\n",
      " [0. 2. 0. 1.]\n",
      " [0. 1. 1. 0.]\n",
      " [1. 2. 0. 1.]]\n"
     ]
    }
   ],
   "source": [
    "enc = OrdinalEncoder()\n",
    "enc.fit(X)\n",
    "print(\"Attributes:\")\n",
    "for cat in enc.categories_:\n",
    "    print(cat)\n",
    "X_ = enc.transform(X)\n",
    "print(\"Data:\", X_, sep=\"\\n\")"
   ]
  },
  {
   "cell_type": "markdown",
   "metadata": {},
   "source": [
    "**Cel (cd):**  \n",
    "\n",
    "- Akceptacja danych *częściowych*: brak wartości zgłaszany jako `np.nan` \n",
    "- Akceptacja danych *nierozpoznanych* - niedostępnych w trakcie **fit()** "
   ]
  },
  {
   "cell_type": "code",
   "execution_count": 61,
   "metadata": {},
   "outputs": [
    {
     "name": "stdout",
     "output_type": "stream",
     "text": [
      "[[2. 1. 1. 1.]]\n",
      "[[ 1.  2. nan  0.]] [[nan  0.  1.  0.]]\n",
      "['rainy' 'cool' 'normal' False]\n"
     ]
    }
   ],
   "source": [
    "x = np.asarray([\"sunny\",\"hot\",\"normal\",True], dtype=object)\n",
    "# without 'dtype' the last value is changed to string 'True' \n",
    "x_ = enc.transform(x[None,:])\n",
    "print(x_)\n",
    "x3 = X[3].copy()\n",
    "x3[2] = np.nan\n",
    "# x3_ = enc.transform(x3[None,:])  \n",
    "# ValueError: Found unknown categories [nan] in column 2 during transform\n",
    "# ... but - after a small change ...\n",
    "enc.handle_unknown = 'use_encoded_value'\n",
    "x3_ = enc.transform(x3[None,:])  \n",
    "x4 = X[4:5].copy()\n",
    "x4[0,0] = \"fine\"\n",
    "x4_ = enc.transform(x4)\n",
    "print(x3_,x4_)\n",
    "print(X[4])"
   ]
  },
  {
   "cell_type": "markdown",
   "metadata": {},
   "source": [
    "Wartość parametru `.handle_unknown = 'use_encoded_value'` blokuje z kolei akceptowanie wartości `np.nan` w fazie **fit()**. Stąd pomysł na rozszerzenie klasy OrdinalEncoder:"
   ]
  },
  {
   "cell_type": "code",
   "execution_count": 62,
   "metadata": {},
   "outputs": [],
   "source": [
    "class OrdinalNanEncoder(OrdinalEncoder):    # Dopuszcza nan's dla uczących i dla transformacji\n",
    "                                            # W trakcie uczenia ewent. None's traktuje jak etykiety\n",
    "    def fit(self, X, y=None):\n",
    "        self.handle_unknown = \"error\"\n",
    "        return super().fit(X,y)\n",
    "\n",
    "    def transform(self, X):\n",
    "        self.handle_unknown = 'use_encoded_value'\n",
    "        return super().transform(X)\n"
   ]
  }
 ],
 "metadata": {
  "kernelspec": {
   "display_name": "Python 3",
   "language": "python",
   "name": "python3"
  },
  "language_info": {
   "codemirror_mode": {
    "name": "ipython",
    "version": 3
   },
   "file_extension": ".py",
   "mimetype": "text/x-python",
   "name": "python",
   "nbconvert_exporter": "python",
   "pygments_lexer": "ipython3",
   "version": "3.10.4"
  }
 },
 "nbformat": 4,
 "nbformat_minor": 2
}
