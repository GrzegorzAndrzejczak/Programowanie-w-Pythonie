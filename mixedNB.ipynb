{
  "cells": [
    {
      "cell_type": "code",
      "execution_count": 49,
      "metadata": {
        "id": "BnL1PnadVKHQ"
      },
      "outputs": [],
      "source": [
        "import numpy as np\n",
        "import pandas as pd\n",
        "from sklearn.naive_bayes import CategoricalNB\n",
        "from sklearn.preprocessing import OrdinalEncoder\n",
        "from sklearn.linear_model import LogisticRegression\n",
        "from sklearn.metrics import roc_curve, roc_auc_score\n",
        "from numbers import Number\n"
      ]
    },
    {
      "cell_type": "markdown",
      "metadata": {
        "id": "zHMxwdRYVKHS"
      },
      "source": [
        "## Kilka rozszerzeń klasy **CategoricalNB**\n",
        "**Cel:**  \n",
        "- Klasa powinna obsługiwać klasyfikację danych kategorycznych - poprzez dedykowany obiekt klasy **OrdinalEncoder**\n",
        "- Klasyfikator powinien być odporny na walidację krzyżową (*CategoricalNB* jest **skory do wyjątków**)\n",
        "\n",
        "#### Przykład 1: Dane  *golf_df*"
      ]
    },
    {
      "cell_type": "code",
      "execution_count": 50,
      "metadata": {
        "id": "Fg1pPjzoVKHU",
        "outputId": "f4343484-18d8-49a9-b50b-f94fe64a60b1",
        "colab": {
          "base_uri": "https://localhost:8080/",
          "height": 0
        }
      },
      "outputs": [
        {
          "output_type": "stream",
          "name": "stdout",
          "text": [
            "     Outlook Temperature Humidity  Windy Play\n",
            "0      sunny         hot     high  False   no\n",
            "1      sunny         hot     high   True   no\n",
            "2   overcast         hot     high  False  yes\n",
            "3      rainy        mild     high  False  yes\n",
            "4      rainy        cool   normal  False  yes\n",
            "5      rainy        cool   normal   True   no\n",
            "6   overcast        cool   normal   True  yes\n",
            "7      sunny        mild     high  False   no\n",
            "8      sunny        cool   normal  False  yes\n",
            "9      rainy        mild   normal  False  yes\n",
            "10     sunny        mild   normal   True  yes\n",
            "11  overcast        mild     high   True  yes\n",
            "12  overcast         hot   normal  False  yes\n",
            "13     rainy        mild     high   True   no\n",
            "Decyzje:  ['yes' 'no']\n"
          ]
        }
      ],
      "source": [
        "data = pd.read_csv(\"./data/golf_df.csv\")\n",
        "print(data)\n",
        "X = data.iloc[:, :-1].values\n",
        "y = data.iloc[:, -1].values\n",
        "ylab = np.unique(y)[::-1]       # raczej (\"yes\", \"no\") niż odwrotnie\n",
        "y = (y == 'no').astype(int)     # opcjonalnie\n",
        "print(\"Decyzje: \",ylab)"
      ]
    },
    {
      "cell_type": "code",
      "execution_count": 51,
      "metadata": {
        "id": "4EBHq--YVKHV",
        "outputId": "c3fe8d72-94a4-45df-bab9-6f683f57dca7",
        "colab": {
          "base_uri": "https://localhost:8080/",
          "height": 0
        }
      },
      "outputs": [
        {
          "output_type": "stream",
          "name": "stdout",
          "text": [
            "Attributes:\n",
            "['overcast' 'rainy' 'sunny']\n",
            "['cool' 'hot' 'mild']\n",
            "['high' 'normal']\n",
            "[False True]\n",
            "Data [:5]:\n",
            "[[2. 1. 0. 0.]\n",
            " [2. 1. 0. 1.]\n",
            " [0. 1. 0. 0.]\n",
            " [1. 2. 0. 0.]\n",
            " [1. 0. 1. 0.]]\n"
          ]
        }
      ],
      "source": [
        "enc = OrdinalEncoder()\n",
        "enc.fit(X)\n",
        "print(\"Attributes:\")\n",
        "for cat in enc.categories_:\n",
        "    print(cat)\n",
        "X_ = enc.transform(X)\n",
        "print(\"Data [:5]:\", X_[:5], sep=\"\\n\")"
      ]
    },
    {
      "cell_type": "markdown",
      "metadata": {
        "id": "k6fNz_-6VKHW"
      },
      "source": [
        "**Cel (cd):**  \n",
        "\n",
        "- Akceptacja danych *częściowych*: brak wartości zgłaszany jako `np.nan`\n",
        "- Akceptacja danych *nierozpoznanych* - niedostępnych w trakcie **fit()**"
      ]
    },
    {
      "cell_type": "code",
      "execution_count": 52,
      "metadata": {
        "id": "LOcjnEUDVKHW",
        "outputId": "d9ebff58-f364-4c38-bdf9-3cc69c1f8633",
        "colab": {
          "base_uri": "https://localhost:8080/",
          "height": 0
        }
      },
      "outputs": [
        {
          "output_type": "stream",
          "name": "stdout",
          "text": [
            "['sunny' 'hot' 'normal' True] --> [[2. 1. 1. 1.]]\n",
            "[[ 1.  2. nan  0.]]\n",
            "[[nan  0.  1.  0.]\n",
            " [ 1.  0.  1.  1.]]\n",
            "[['rainy' 'mild' 'high' False]\n",
            " ['rainy' 'cool' 'normal' False]\n",
            " ['rainy' 'cool' 'normal' True]]\n"
          ]
        }
      ],
      "source": [
        "x = np.asarray([\"sunny\",\"hot\",\"normal\",True], dtype=object)\n",
        "# without 'dtype' the last value is changed to string 'True'\n",
        "x_ = enc.transform(x[None,:])\n",
        "print(x,\"-->\",x_)\n",
        "x3 = X[3].copy()            # of shape (4,), change to (1,4)!\n",
        "x3[2] = np.nan\n",
        "# x3_ = enc.transform(x3[None,:])           # of shape (1,4)\n",
        "# ValueError: Found unknown categories [nan] in column 2 during transform\n",
        "# ... but - after a small change ...\n",
        "enc.handle_unknown = 'use_encoded_value'\n",
        "x3_ = enc.transform(x3[None,:])\n",
        "x4 = X[4:6].copy()          # of shape (2,4)\n",
        "x4[0,0] = \"fine\"\n",
        "x4_ = enc.transform(x4)\n",
        "print(x3_,x4_, sep='\\n')\n",
        "print(X[3:6])"
      ]
    },
    {
      "cell_type": "markdown",
      "metadata": {
        "id": "N7bY98vMVKHW"
      },
      "source": [
        "Wartość parametru  `.handle_unknown = 'use_encoded_value'`  blokuje z kolei akceptowanie wartości `np.nan` w fazie **fit()**.  \n",
        "Stąd pomysł na rozszerzenie klasy OrdinalEncoder:"
      ]
    },
    {
      "cell_type": "code",
      "execution_count": 53,
      "metadata": {
        "id": "jj8m7VwmVKHW"
      },
      "outputs": [],
      "source": [
        "class OrdinalNanEncoder(OrdinalEncoder):    # Dopuszcza nan's dla uczących i dla transformacji\n",
        "                                            # W trakcie uczenia ewent. None's traktuje jak etykiety\n",
        "    def fit(self, X, y=None):\n",
        "        self.handle_unknown = \"error\"       # default\n",
        "        return super().fit(X,y)\n",
        "\n",
        "    def transform(self, X):\n",
        "        self.handle_unknown = 'use_encoded_value'\n",
        "        return super().transform(X)"
      ]
    },
    {
      "cell_type": "markdown",
      "metadata": {
        "id": "fO8TzxN4VKHW"
      },
      "source": [
        "... i włączenie nowej klasy do rozszerzenia `CategoricalNanNB(CategoricalNB)`:\n",
        "### CategoricalNanNB(CategoricalNB)"
      ]
    },
    {
      "cell_type": "code",
      "execution_count": 54,
      "metadata": {
        "id": "VytvoHV2VKHW"
      },
      "outputs": [],
      "source": [
        "class CategoricalNanNB(CategoricalNB):\n",
        "    enc: OrdinalNanEncoder\n",
        "    n_features_in_: int                     # pole jest w BaseEstimator,\n",
        "\n",
        "    def _fit(self, y):                              # wyznacza etykiety klas oraz a'priori  `logP(Y=i)`\n",
        "        classes, class_counts = np.unique(y, return_counts=True)\n",
        "        self.classes_ = classes\n",
        "        self.class_log_prior_ = np.log(class_counts) - np.log(class_counts.sum())\n",
        "\n",
        "    def fit(self, X, y, encoder=None, **kwargs):\n",
        "        self._fit(y)                                # `protected` fragment fit() zależny od  y\n",
        "        self.enc = OrdinalNanEncoder() if encoder is None else encoder\n",
        "        enc = self.enc\n",
        "        if not hasattr(enc, \"categories_\"):         # jeśli encoder enc nie był wcześniej uczony\n",
        "            enc.fit(X)\n",
        "        self.n_features_in_ = X.shape[1]\n",
        "\n",
        "        for j in range(self.n_features_in_):\n",
        "            cat = enc.categories_[j][-1]\n",
        "            if isinstance(cat, Number) and np.isnan(cat):       # pomijamy \"nan\", zostają  None - jeśli są\n",
        "                enc.categories_[j] = enc.categories_[j][:-1]    # można usunąć końce zawierające nan\n",
        "        self._count(X, y)\n",
        "\n",
        "    def _count(self, X, y):                         # inicjalizacja liczników / zliczanie par\n",
        "        X_ = self.enc.transform(X)\n",
        "        n_classes = self.classes_.size\n",
        "        n_features = self.n_features_in_\n",
        "        n_categories = [self.enc.categories_[j].shape[0] for j in range(n_features)]\n",
        "        self.category_count_ = [np.zeros((n_classes, n_categories[j])) for j in range(n_features)]\n",
        "        for i in range(n_classes):\n",
        "            mask_i = y == self.classes_[i]\n",
        "            for j in range(n_features):\n",
        "                cat_count = self.category_count_[j]\n",
        "                indices, counts = np.unique(X_[mask_i, j], return_counts=True)      # zlicza też nan's\n",
        "                if np.isnan(indices[-1]):                                           # ... ale pomija wartości\n",
        "                    indices, counts = indices[:-1], counts[:-1]                     # gdyż są na końcu!\n",
        "                cat_count[i, indices.astype(int)] += counts\n",
        "        self._update_feature_log_prob(self.alpha)\n",
        "\n",
        "    # ..."
      ]
    },
    {
      "cell_type": "markdown",
      "metadata": {
        "id": "PXhRWwcnVKHX"
      },
      "source": [
        "W trakcie uczenia nowego klasyfikatora można wskazać *encoder* np. z listą kategorii o danym porządku wartości...\n",
        "\n",
        "W fazie predykcji klasyfikator dokonuje transformacji danych testowych **Z** - za pomocą funkcji\n",
        "\n",
        "    def _check_X(self, Z):                          \n",
        "        Z_ = self.enc.transform(Z)\n",
        "        return Z_\n",
        "\n",
        "W przypadku pracy z parą zbiorów **X_train**,  **X_test**  jest możliwe, że któreś z wartości nominalnych danych testowych **X_test** nie zostaną rozpoznane na liście wewnętrznego encodera w fazie **fit(X_train, y)**  -- pojawią się jako *nowe/nieznane*, a wewnętrzna transformacja przypisze im wartość  **np.nan**.   \n",
        "Taka sytuacja jest naturalna w trakcie wielokrotnych *walidacji krzyżowych.*"
      ]
    },
    {
      "cell_type": "markdown",
      "metadata": {
        "id": "JNeO43RNVKHX"
      },
      "source": [
        "Podstawę predykcji dla danej tablicy danych nominalnych  **Z --> Z_** $\\equiv[z_{hj}]$ wymiaru $m\\times n_\\text{features in}$\n",
        "stanowią prawdopodobieństwa warunkowe $P(X=z_{h(.)}\\,|\\,Y=i)$, a dokładniej ich logarytmy\n",
        "przechowywane w tablicy **clp=cond_log_proba(Z)** wymiaru $m\\times n_\\text{classes}$ i wyznaczane z warunku NB\n",
        "$$ \\text{clp}[h,i] = \\sum_j \\begin{cases}\\log P(Z=z_{hj}|\\,Y=i),& \\text{ gdy }z_{hj}\\ne \\text{nan}\\\\\n",
        "0,& \\text{ gdy }z_{hj}= \\text{nan}\n",
        "\\end{cases}$$\n",
        "Stosowny algorytm sumujący logarytmy i uwzględniający możliwe braki wartości atrybutów realizuje metoda  **cond_log_proba**:"
      ]
    },
    {
      "cell_type": "markdown",
      "metadata": {
        "id": "X6-hDLZhVKHX"
      },
      "source": []
    },
    {
      "cell_type": "code",
      "execution_count": 55,
      "metadata": {
        "id": "cO2Y-38qVKHX"
      },
      "outputs": [],
      "source": [
        "class CategoricalNanNB(CategoricalNB):\n",
        "    # ...\n",
        "    def cond_log_proba(self, Z):    # log( P(X=z|Y=i) )\n",
        "        Z_ = self._check_X(Z)       # categorial --> numbered or nan's\n",
        "        n_classes = self.classes_.size\n",
        "        clp = np.zeros((Z_.shape[0], n_classes))\n",
        "        for j in range(self.n_features_in_):\n",
        "            z_j = Z_[:, j]\n",
        "            j_nans = np.isnan(z_j)\n",
        "            z_j_ints = z_j[~j_nans].astype(int)     # TE są całkowite\n",
        "            clp[~j_nans, :] += self.feature_log_prob_[j][:, z_j_ints].T\n",
        "        return clp\n",
        "\n",
        "    def _joint_log_likelihood(self, Z):\n",
        "        clp = self.cond_log_proba(Z)\n",
        "        return clp + self.class_log_prior_\n",
        "\n",
        "    def predict_log_proba(self, Z):\n",
        "        from scipy.special import logsumexp\n",
        "        jll = self._joint_log_likelihood(Z)\n",
        "        log_prob = logsumexp(jll, axis=1)\n",
        "        return jll - log_prob[:, None]\n",
        "\n",
        "    def predict(self, Z):\n",
        "        prob = self.predict_proba(Z)\n",
        "        return self.classes_.take(prob.argmax(1))\n"
      ]
    },
    {
      "cell_type": "markdown",
      "metadata": {
        "id": "m-2yaOCCVKHX"
      },
      "source": [
        "Ostatnie dwie z podanych wyżej metod zastępują analogiczne metody klasy nadrzędnej i pomijają przeniesioną do *cond_log_proba* transformację danych.\n",
        "\n",
        "Predykcja opiera się na estymowanych prawdopodobieństwach:"
      ]
    },
    {
      "cell_type": "code",
      "execution_count": 56,
      "metadata": {
        "id": "K3UMRNORVKHY",
        "outputId": "88dbc660-9362-4ca6-8049-338690b6b624",
        "colab": {
          "base_uri": "https://localhost:8080/",
          "height": 0
        }
      },
      "outputs": [
        {
          "output_type": "stream",
          "name": "stdout",
          "text": [
            "['rainy' 'mild' nan False]: \t[[0.72525439 0.27474561]]\n",
            "['rainy' 'mild' 'high' False]: \t[[0.57335388 0.42664612]]\n",
            "Prawdopodobieństwa i przynależność \n",
            "do klas: ['yes' 'no']\n",
            " 0: [0.3120,0.6880], 1 \n",
            " 1: [0.1627,0.8373], 1 \n",
            " 2: [0.7515,0.2485], 0 \n",
            " 3: [0.5734,0.4266], 0 \n",
            " 4: [0.8759,0.1241], 0 \n",
            " 5: [0.7515,0.2485], 1 <- ['rainy' 'cool' 'normal' True]\n",
            " 6: [0.9190,0.0810], 0 \n",
            " 7: [0.4305,0.5695], 1 \n",
            " 8: [0.7987,0.2013], 0 \n",
            " 9: [0.8546,0.1454], 0 \n",
            "10: [0.5863,0.4137], 0 \n",
            "11: [0.6835,0.3165], 0 \n",
            "12: [0.9297,0.0703], 0 \n",
            "13: [0.3655,0.6345], 1 \n"
          ]
        }
      ],
      "source": [
        "from NB_ext import CategoricalNanNB, OrdinalNanEncoder\n",
        "cnf = CategoricalNanNB()\n",
        "cnf.fit(X,y)\n",
        "print(x3, cnf.predict_proba(x3[None,:]), sep=\": \\t\")\n",
        "print(X[3], cnf.predict_proba(X[3:4]), sep=\": \\t\")\n",
        "print(\"Prawdopodobieństwa i przynależność \\ndo klas:\", ylab)\n",
        "probs = cnf.predict_proba(X)\n",
        "for i in range(y.shape[0]):\n",
        "    st = \"\" if y[i]==cnf.predict(X[i:i+1]) else \"<- {0}\".format(X[i])\n",
        "    print(\"{0:2}: [{1:6.4f},{2:6.4f}], {3}\".format(i, *probs[i], y[i]),st)\n"
      ]
    },
    {
      "cell_type": "markdown",
      "metadata": {
        "id": "tYG97O1EVKHY"
      },
      "source": [
        "\n",
        "#### Przykład 2.  Dane *credit-g*"
      ]
    },
    {
      "cell_type": "code",
      "execution_count": 57,
      "metadata": {
        "id": "8pDTUdMEVKHY",
        "outputId": "935acd37-f184-4079-f4e3-8ea80ef224f3",
        "colab": {
          "base_uri": "https://localhost:8080/",
          "height": 0
        }
      },
      "outputs": [
        {
          "output_type": "stream",
          "name": "stdout",
          "text": [
            "Nazwy kolun/atrybutów: ['checking_status' 'duration' 'credit_history' 'purpose' 'credit_amount'\n",
            " 'savings_status' 'employment' 'installment_commitment' 'personal_status'\n",
            " 'other_parties' 'residence_since' 'property_magnitude' 'age'\n",
            " 'other_payment_plans' 'housing' 'existing_credits' 'job' 'num_dependents'\n",
            " 'own_telephone' 'foreign_worker' 'class']\n",
            "Przykładowe dane:\n",
            "[['<0' 6 \"'critical/other existing credit'\" 'radio/tv' 1169\n",
            "  \"'no known savings'\" '>=7' 4 \"'male single'\" 'none' 4 \"'real estate'\"\n",
            "  67 'none' 'own' 2 'skilled' 1 'yes' 'yes']\n",
            " ['0<=X<200' 48 \"'existing paid'\" 'radio/tv' 5951 '<100' '1<=X<4' 2\n",
            "  \"'female div/dep/mar'\" 'none' 2 \"'real estate'\" 22 'none' 'own' 1\n",
            "  'skilled' 1 'none' 'yes']]\n",
            "Decyzje:  ['good' 'bad']\n"
          ]
        }
      ],
      "source": [
        "data = pd.read_csv(\"./data/credit-g.csv\")\n",
        "X = data.iloc[:, :-1].values\n",
        "y = data.iloc[:, -1].values\n",
        "ylab = np.unique(y)[::-1]           # raczej ('good', 'bad') niż odwrotnie\n",
        "y = (y == 'bad').astype(int)      # opcjonalnie\n",
        "attributes = data.columns.values\n",
        "print(\"Nazwy kolun/atrybutów:\",attributes)\n",
        "print(\"Przykładowe dane:\")\n",
        "print(X[:2])\n",
        "print(\"Decyzje: \",ylab)"
      ]
    },
    {
      "cell_type": "code",
      "execution_count": 58,
      "metadata": {
        "id": "rdvZSznAVKHY",
        "outputId": "b499a46b-c59b-4a92-9933-98ae538f38b7",
        "colab": {
          "base_uri": "https://localhost:8080/",
          "height": 0
        }
      },
      "outputs": [
        {
          "output_type": "stream",
          "name": "stdout",
          "text": [
            "Atrybuty o numerach  [1, 4, 7, 10, 12, 15, 17] nie są nominalne (kategoryjne):\n",
            "['duration' 'credit_amount' 'installment_commitment' 'residence_since'\n",
            " 'age' 'existing_credits' 'num_dependents']\n",
            "Przykładowe wartości:\n",
            " [[6 1169 4 4 67 2 1]\n",
            " [48 5951 2 2 22 1 1]]\n"
          ]
        }
      ],
      "source": [
        "numeric = [1, 4, 7, 10, 12, 15, 17]\n",
        "print(\"Atrybuty o numerach \",numeric, \"nie są nominalne (kategoryjne):\")\n",
        "print(attributes[numeric])\n",
        "print(\"Przykładowe wartości:\\n\", X[:2, numeric])"
      ]
    },
    {
      "cell_type": "markdown",
      "metadata": {
        "id": "C1t9yUmJVKHY"
      },
      "source": [
        "Atrybuty nominalne i numeryczne możemy rozdzielić (a wraz z nimi cały zbiór danych X), korzystając z dwu uzupełniających się *masek logicznych*. W ten sposób **X = [Xc, Xn]**, gdzie:"
      ]
    },
    {
      "cell_type": "code",
      "execution_count": 59,
      "metadata": {
        "id": "fJApYvcwVKHY",
        "outputId": "70bbd03a-c18c-47cb-8a1d-0fa67d98d8ff",
        "colab": {
          "base_uri": "https://localhost:8080/",
          "height": 0
        }
      },
      "outputs": [
        {
          "output_type": "stream",
          "name": "stdout",
          "text": [
            "0 [\"'no checking'\" '0<=X<200' '<0' '>=200']\n",
            "1 [\"'all paid'\" \"'critical/other existing credit'\" \"'delayed previously'\"\n",
            " \"'existing paid'\" \"'no credits/all paid'\"]\n",
            "2 [\"'domestic appliance'\" \"'new car'\" \"'used car'\" 'business' 'education'\n",
            " 'furniture/equipment' 'other' 'radio/tv' 'repairs' 'retraining']\n",
            "3 [\"'no known savings'\" '100<=X<500' '500<=X<1000' '<100' '>=1000']\n"
          ]
        }
      ],
      "source": [
        "n_mask = [(i in numeric) for i in range(X.shape[1])]\n",
        "c_mask = np.logical_not(n_mask)\n",
        "Xc = X[:, c_mask]       # categorical\n",
        "Xn = X[:, n_mask]       # = X[:, numeric], dane liczbowe\n",
        "\n",
        "from NB_ext import CategoricalNanNB, OrdinalNanEncoder\n",
        "clf = CategoricalNanNB()\n",
        "clf.fit(Xc,y)         # encoder=...   -może być jawnie wskazany i wcześniej dopasowany\n",
        "for i in range(4):\n",
        "    print(i,  clf.enc.categories_[i])  # enc.categories_[0], enc.categories_[3], było przed zmianą:\n"
      ]
    },
    {
      "cell_type": "markdown",
      "metadata": {
        "id": "R1-c9-K0VKHZ"
      },
      "source": [
        "Predykcja na podstawie danych nominalnych zawartych w **Xc**:"
      ]
    },
    {
      "cell_type": "code",
      "execution_count": 60,
      "metadata": {
        "id": "SzulVTtwVKHZ",
        "outputId": "23fb99ee-0659-4644-ea18-cafc0e7848b8",
        "colab": {
          "base_uri": "https://localhost:8080/",
          "height": 619
        }
      },
      "outputs": [
        {
          "output_type": "stream",
          "name": "stdout",
          "text": [
            "Macierz błędów klasyfikatora:\n",
            "[[601  99]\n",
            " [138 162]]\n"
          ]
        },
        {
          "output_type": "display_data",
          "data": {
            "text/plain": [
              "<Figure size 1000x500 with 2 Axes>"
            ],
            "image/png": "[encoded data removed]"
          },
          "metadata": {}
        },
        {
          "output_type": "stream",
          "name": "stdout",
          "text": [
            "Macierz błędów klasyfikatora (weak):\n",
            "[[500 200]\n",
            " [ 78 222]]\n"
          ]
        }
      ],
      "source": [
        "from matplotlib import pyplot as plt\n",
        "from NB_ext import ROC, AUC, conf_mtx\n",
        "y_pred = clf.predict(Xc)\n",
        "mtx = conf_mtx(y,y_pred)\n",
        "print('Macierz błędów klasyfikatora:')\n",
        "print(mtx)\n",
        "y_proba = clf.predict_proba(Xc)[:,1]\n",
        "fP, tP, _ = roc_curve(y, y_proba)\n",
        "auc = roc_auc_score(y, y_proba)\n",
        "fig, (ax0, ax1) = plt.subplots(1,2, figsize=(10,5))\n",
        "ax0.plot(fP,tP, color=\"r\", label=f\"AUC={auc:6.3f}\");\n",
        "fig.suptitle(\"Krzywa ROC - NB dla danych nominalnych\")\n",
        "ax0.set_xlabel(\"False positive rate\")\n",
        "ax0.set_ylabel(\"True positive rate\")\n",
        "ax0.set_title(\"znormalizowana\")\n",
        "ax0.legend();\n",
        "\n",
        "FP,TP = ROC(y, y_proba)\n",
        "pr_apriori = TP[-1]/(len(y))        # akt. 3/10\n",
        "y_suspect = (y_proba>=pr_apriori).astype(int)    # ... gdy  P(Y=1|x) >= P(Y=1)\n",
        "mtxw = conf_mtx(y,y_suspect)\n",
        "fps,tps = mtx[:,1]\n",
        "fpw,tpw = mtxw[:,1]\n",
        "ax1.plot(FP,TP, color=\"r\", label=\"ROC\");\n",
        "ax1.scatter(fps,tps, color=\"y\", marker='s', label=f\"  {fps,tps}: P >= 1/2 - strong\")\n",
        "ax1.scatter(fpw,tpw, color=\"green\", marker='o', label=f\"{fpw,tpw}: P>=P(Y=1) weak\")\n",
        "\n",
        "ax1.set_xlabel(\"False positive\")\n",
        "ax1.set_ylabel(\"True positive\")\n",
        "ax1.set_title(\"przed normalizacją\")\n",
        "ax1.legend();\n",
        "plt.show()\n",
        "print('Macierz błędów klasyfikatora (weak):')\n",
        "print(mtxw)\n"
      ]
    },
    {
      "cell_type": "markdown",
      "metadata": {
        "id": "WE7mtCRBVKHZ"
      },
      "source": [
        "*Słaba* wersja klasyfikatora opiera decyzję na **podejrzeniu przynależności do klasy**, jeśli w konkretnym przypadku pomiar danej opisującej  **x**  zwiększa wstępne, aprioryczne prawdopodobieństwo.   \n",
        "*Podejrzenie* charakteryzują nierówności\n",
        "$$P(Y=1\\,|\\,X=x)\\geq P(Y=1)\\quad\\Longleftrightarrow\\quad P(Y=0\\,|\\,X=x)\\leq P(Y=0)$$\n",
        "\n",
        "### Walidacja krzyżowa\n",
        "Zgodnie z zapowiedzią możemy uzyskać bardziej wiarygodną, ale mniej optymistyczną ocenę jakości klasyfikatora, stosując $r-$ krotną walidację krzyżową, na którą składają się dwie funkcje zdefiniowane np. w pliku NB_ext.py"
      ]
    },
    {
      "cell_type": "code",
      "execution_count": 61,
      "metadata": {
        "id": "zQeJwl1uVKHZ",
        "outputId": "366de37d-4f86-45e2-87d0-7f9242e9f6b0",
        "colab": {
          "base_uri": "https://localhost:8080/",
          "height": 0
        }
      },
      "outputs": [
        {
          "output_type": "stream",
          "name": "stdout",
          "text": [
            "auc_CategoricalNanNB (10-x, credit-g): 0.7696\n",
            "CategoricalNanNB for credit-g (weak, 10-x):\n",
            "[[487 213]\n",
            " [ 87 213]]\n",
            "CategoricalNanNB for credit-g (strong, 10-x):\n",
            "[[589 111]\n",
            " [154 146]]\n"
          ]
        }
      ],
      "source": [
        "from NB_ext import xStratification, xValidation\n",
        "test_folds = xStratification(y, rand=np.random.default_rng(0))     # random - a może zatem jeszcze średnia ze 100?\n",
        "# r = 10      # domyślnie, błąd CategoricalNB dla: (n_splits=2, r=236) i (3, 1506)\n",
        "y_probs =  xValidation(clf, Xc, y, test_folds)\n",
        "auc = roc_auc_score(y, y_probs)\n",
        "print(f\"auc_CategoricalNanNB (10-x, credit-g): {auc:6.4f}\")   # 0.76963333\n",
        "\n",
        "mtx_w = conf_mtx(y, (y_probs >= pr_apriori).astype(int))\n",
        "print(\"CategoricalNanNB for credit-g (weak, 10-x):\", mtx_w, sep=\"\\n\")\n",
        "\n",
        "mtx_s = conf_mtx(y, (y_probs >= .5).astype(int))\n",
        "print(\"CategoricalNanNB for credit-g (strong, 10-x):\", mtx_s, sep=\"\\n\")\n"
      ]
    },
    {
      "cell_type": "markdown",
      "metadata": {
        "id": "v1p88po0VKHZ"
      },
      "source": [
        "#### BŁĄD\n",
        "Przewidywany błąd oryginalnej klasy  **CategoricalNB** nie tak łatwo uchwycić, ale ograniczając *nieco* losowość, dostajemy np."
      ]
    },
    {
      "cell_type": "code",
      "execution_count": 62,
      "metadata": {
        "id": "AszR4MEtVKHa",
        "outputId": "ce901211-cf31-49e2-83eb-f1325390d08f",
        "colab": {
          "base_uri": "https://localhost:8080/",
          "height": 0
        }
      },
      "outputs": [
        {
          "output_type": "stream",
          "name": "stdout",
          "text": [
            "-->Błąd x-walidacji dla  CategoricalNB()\n",
            "\n",
            "A dla CategoricalNanNB() wszystko OK:\n",
            "auc_CategoricalNanNB (3-x, credit-g): 0.7667\n",
            "CategoricalNanNB for credit-g (weak, 3-x):\n",
            "[[492 208]\n",
            " [ 86 214]]\n",
            "CategoricalNanNB for credit-g (strong, 3-x):\n",
            "[[589 111]\n",
            " [151 149]]\n"
          ]
        }
      ],
      "source": [
        "enc = OrdinalEncoder(); enc.fit(Xc)\n",
        "Xc_ = enc.transform(Xc)\n",
        "clf_ = CategoricalNB()\n",
        "\n",
        "n_splits, r = 3, 1506         # błąd też dla: n_splits=2, r=236\n",
        "test_folds = xStratification(y, n_splits=n_splits, rand=np.random.default_rng(r))     # random - a może zatem jeszcze średnia ze 100?\n",
        "try:\n",
        "    y_probs =  xValidation(clf_, Xc_, y, test_folds)\n",
        "except:\n",
        "    print(\"-->Błąd x-walidacji dla \", clf_)\n",
        "y_probs =  xValidation(clf, Xc, y, test_folds)\n",
        "print(\"\\nA dla {0} wszystko OK:\".format(clf))\n",
        "auc = roc_auc_score(y, y_probs)\n",
        "print(f\"auc_CategoricalNanNB ({n_splits}-x, credit-g): {auc:6.4f}\")   # 0.76963333\n",
        "\n",
        "mtx_w = conf_mtx(y, (y_probs >= pr_apriori).astype(int))\n",
        "print(f\"CategoricalNanNB for credit-g (weak, {n_splits}-x):\", mtx_w, sep=\"\\n\")\n",
        "\n",
        "mtx_s = conf_mtx(y, (y_probs >= .5).astype(int))\n",
        "print(f\"CategoricalNanNB for credit-g (strong, {n_splits}-x):\", mtx_s, sep=\"\\n\")\n",
        "\n"
      ]
    },
    {
      "cell_type": "markdown",
      "metadata": {
        "id": "vWYIvz-nVKHa"
      },
      "source": [
        "### MixedNB(ClassifierMixin, BaseEstimator)\n",
        "Poprawa efektywności klasyfikatora **CategoricalNanNB** wymaga uwzględnienia danych liczbowych pominiętych w przedstawionej wyżej koncepcji. Jeśli przyjąć,  **X=(Xc,Xn)**  oznacza podział atrybutów (i danych) na dwie grupy - kategoryjne i numeryczne, to naiwne założenie relatywnej niezależności grup prowadzi do wzorów:\n",
        "$$\\begin{align}\n",
        "P(X=(x',x'')\\,|\\,Y=j)&=P(X\\!c=x'|\\,Y=j)P(X\\!n=x''|\\,Y=j)\\\\\n",
        "P(Y=j\\,|\\,X=(x',x'')) &=\\frac{P(X\\!c=x'|\\,Y=j)P(X\\!n=x'',Y=j)}{P(X=(x',x''))}=\\frac{P(X\\!c=x'|\\,Y=j)P(X\\!n=x'',Y=j)}{\\sum_a P(X\\!c=x'|\\,Y=a)P(X\\!n=x'',Y=a)}\\\\\n",
        "&= \\frac{P(X\\!c=x'|\\,Y=j)P(Y=j\\,|\\,X\\!n=x'')}{\\sum_a P(X\\!c=x'|\\,Y=a)P(Y=a\\,|\\,X\\!n=x'')}\n",
        "\\end{align}$$\n",
        "Jak zwykle, do estymacji (i porównania) wystarczają liczniki, zależne od dwu rozkładów: naiwnego bayesowskiego $P_{X'}$ i odrębnego, wybranego arbitralnie $P_{X''}$. Po zlogarytmowaniu liczników, wyznaczamy sumy postaci  **cond_log_proba(x',j) + log_proba(x\",j)**  - dla wszystkich klas i ich indeksów **j**.\n",
        "\n",
        "Nowa klasa wymaga wskazania dodatkowego klasyfikatora obsługującego dane liczbowe, np.:"
      ]
    },
    {
      "cell_type": "code",
      "execution_count": 63,
      "metadata": {
        "id": "izlpoxgiVKHa"
      },
      "outputs": [],
      "source": [
        "from NB_ext import MixedNB\n",
        "from sklearn.linear_model import LogisticRegression\n",
        "cl_mix = MixedNB(LogisticRegression(max_iter=1000))"
      ]
    },
    {
      "cell_type": "markdown",
      "metadata": {
        "id": "Ib58gLC0VKHa"
      },
      "source": [
        "Dopasowanie klasyfikatora **MixedNB** do konkretnych danych **(X,y)** wymaga wskazania, które atrybuty zaliczyć np. do liczbowych (numerycznych). Przekazana jako opcjonalny parametr maska pozostaje wewnętrznym stanem klasyfikatora i może być wykorzystana w procesie walidacji krzyżowej.\n",
        "\n",
        "#### Wybrane szczegóły implementacji:"
      ]
    },
    {
      "cell_type": "code",
      "source": [
        "from sklearn.base import ClassifierMixin, BaseEstimator\n",
        "class MixedNB(ClassifierMixin, BaseEstimator):\n",
        "    cmask: np.ndarray\n",
        "    claNB: CategoricalNanNB = CategoricalNanNB()\n",
        "\n",
        "    def __init__(self, classifier, cat_nb=None):  # możliwa jakaś szczególna wersja cat_nb\n",
        "        self.classifier = classifier              # obiekt, nie klasa\n",
        "        if cat_nb: self.claNB = cat_nb\n",
        "        self.n_classes: int; self.n_features: int\n",
        "\n",
        "    def fit(self, X, y, nums: list[int] = None, **kwargs):      # raz wpisana maska staje się domyślna\n",
        "        num_a = X.shape[1]\n",
        "        self.n_features = num_a\n",
        "        if nums is not None:\n",
        "            nmask = np.asarray([(i in nums) or (i-num_a in nums) for i in range(num_a)])\n",
        "            self.cmask = ~nmask\n",
        "        else:\n",
        "            nmask = ~self.cmask\n",
        "        Xc, Xn = X[:, ~nmask], X[:, nmask]     # nominal, numeric(gaussian?)\n",
        "        claNB = self.claNB\n",
        "        claNB.fit(Xc, y)\n",
        "        self.n_classes = self.claNB.classes_.size\n",
        "        cla = self.classifier\n",
        "        cla.fit(Xn, y)\n",
        "\n",
        "    def predict_log_proba(self, Z):\n",
        "        Zc = Z[:, self.cmask]\n",
        "        Zn = Z[:, ~self.cmask]\n",
        "        clp_c = self.claNB.cond_log_proba(Zc)  # sum(log P_NB(x|c))\n",
        "        log_pr_n = self.classifier.predict_log_proba(Zn)  # log P_LR(c|x)\n",
        "        cll = clp_c + log_pr_n\n",
        "        # normalize by sumexp\n",
        "        from scipy.special import logsumexp\n",
        "        log_prob_rel = logsumexp(cll, axis=1)\n",
        "        return cll - log_prob_rel[:, None]\n",
        "\n",
        "    # ...\n"
      ],
      "metadata": {
        "id": "XylG_gDfvJki"
      },
      "execution_count": 64,
      "outputs": []
    },
    {
      "cell_type": "markdown",
      "source": [
        "Pozostałe funkcje predykcji **prodict_proba** i **predict** powtarzają standardowy kod -- nie mogą skorzystać z dziedziczenia. Zamiast tego można wprowadzić *próg predykcji*, domyślnie równy 0.5"
      ],
      "metadata": {
        "id": "6yq9_IbtwZh5"
      }
    },
    {
      "cell_type": "code",
      "execution_count": 65,
      "metadata": {
        "id": "NRyJHPwOVKHa",
        "outputId": "b7e75332-a656-42df-d973-02ea1ca45af1",
        "colab": {
          "base_uri": "https://localhost:8080/",
          "height": 689
        }
      },
      "outputs": [
        {
          "output_type": "stream",
          "name": "stdout",
          "text": [
            "[[0.98464103 0.01535897]]\n",
            "...a w środku\n",
            "[[0.96128406 0.03871594]]\n",
            "[[0.85764381 0.14235619]]\n",
            "Macierz błędów klasyfikatora:\n",
            "[[602  98]\n",
            " [134 166]]\n",
            "Macierz błędów klasyfikatora (weak):\n",
            "[[513 187]\n",
            " [ 68 232]]\n"
          ]
        },
        {
          "output_type": "display_data",
          "data": {
            "text/plain": [
              "<Figure size 1000x500 with 2 Axes>"
            ],
            "image/png": "[encoded data removed]"
          },
          "metadata": {}
        }
      ],
      "source": [
        "data = pd.read_csv(\"./data/credit-g.csv\")\n",
        "X = data.iloc[:, :-1].values\n",
        "y = data.iloc[:, -1].values\n",
        "ylab = np.unique(y)[::-1]           # raczej ('good', 'bad') niż odwrotnie\n",
        "y = (y == 'bad').astype(int)        # opcjonalnie\n",
        "numeric = [1, 4, 7, 10, 12, 15, 17]\n",
        "cl_mix.fit(X, y, nums=numeric)\n",
        "print(cl_mix.predict_proba(X[2:3]))\n",
        "print(\"...a w środku\")\n",
        "print(cl_mix.claNB.predict_proba(Xc[2:3]))\n",
        "print(cl_mix.classifier.predict_proba(Xn[2:3]))\n",
        "\n",
        "y_pred = cl_mix.predict(X)\n",
        "mtx = conf_mtx(y,y_pred)\n",
        "print('Macierz błędów klasyfikatora:')\n",
        "print(mtx)\n",
        "y_proba = cl_mix.predict_proba(X)[:,1]\n",
        "fP, tP, _ = roc_curve(y, y_proba)\n",
        "auc = roc_auc_score(y, y_proba)\n",
        "fig, (ax0, ax1) = plt.subplots(1,2, figsize=(10,5))\n",
        "ax0.plot(fP,tP, color=\"r\", label=f\"AUC={auc:6.3f}\");\n",
        "fig.suptitle(\"Krzywa ROC - MixedNB dla credit-g\")\n",
        "ax0.set_xlabel(\"False positive rate\")\n",
        "ax0.set_ylabel(\"True positive rate\")\n",
        "ax0.set_title(\"znormalizowana\")\n",
        "ax0.legend();\n",
        "\n",
        "FP,TP = ROC(y, y_proba)\n",
        "pr_apriori = TP[-1]/(len(y))        # akt. 3/10\n",
        "y_suspect = (y_proba>=pr_apriori).astype(int)    # ... gdy  P(Y=1|x) >= P(Y=1)\n",
        "mtxw = conf_mtx(y,y_suspect)\n",
        "print('Macierz błędów klasyfikatora (weak):')\n",
        "print(mtxw)\n",
        "fps,tps = mtx[:,1]\n",
        "fpw,tpw = mtxw[:,1]\n",
        "ax1.plot(FP,TP, color=\"r\", label=\"ROC\");\n",
        "ax1.scatter(fps,tps, color=\"y\", marker='s', label=f\"  {fps,tps}: P >= 1/2 - strong\")\n",
        "ax1.scatter(fpw,tpw, color=\"green\", marker='o', label=f\"{fpw,tpw}: P>=P(Y=1) weak\")\n",
        "\n",
        "ax1.set_xlabel(\"False positive\")\n",
        "ax1.set_ylabel(\"True positive\")\n",
        "ax1.set_title(\"przed normalizacją\")\n",
        "ax1.legend();\n",
        "plt.show()\n"
      ]
    },
    {
      "cell_type": "markdown",
      "source": [
        "A teraz 10-krotna walidacja krzyżowa:"
      ],
      "metadata": {
        "id": "tU9JPbASoEZP"
      }
    },
    {
      "cell_type": "code",
      "execution_count": 66,
      "metadata": {
        "id": "BDMv-K1BVKHa",
        "colab": {
          "base_uri": "https://localhost:8080/",
          "height": 0
        },
        "outputId": "4b0768fe-a921-40ed-b762-285153267b75"
      },
      "outputs": [
        {
          "output_type": "stream",
          "name": "stdout",
          "text": [
            "auc_MixedNB+LogisticRegr (10-x, credit-g): 0.7865\n",
            "MixedNB+LogisticRegr for credit-g (weak, 10-x):\n",
            "[[501 199]\n",
            " [ 78 222]]\n",
            "MixedNB+LogisticRegr for credit-g (strong, 10-x):\n",
            "[[588 112]\n",
            " [143 157]]\n"
          ]
        }
      ],
      "source": [
        "test_folds = xStratification(y, rand=np.random.default_rng(0))     # random - a może zatem jeszcze średnia ze 100?\n",
        "# r = 10      # domyślnie, błąd CategoricalNB dla: (n_splits=2, r=236) i (3, 1506)\n",
        "y_probs =  xValidation(cl_mix, X, y, test_folds)\n",
        "auc = roc_auc_score(y, y_probs)\n",
        "print(f\"auc_MixedNB+LogisticRegr (10-x, credit-g): {auc:6.4f}\")   # 0.76963333\n",
        "\n",
        "mtx_w = conf_mtx(y, (y_probs >= pr_apriori).astype(int))\n",
        "print(\"MixedNB+LogisticRegr for credit-g (weak, 10-x):\", mtx_w, sep=\"\\n\")\n",
        "\n",
        "mtx_s = conf_mtx(y, (y_probs >= .5).astype(int))\n",
        "print(\"MixedNB+LogisticRegr for credit-g (strong, 10-x):\", mtx_s, sep=\"\\n\")\n"
      ]
    },
    {
      "cell_type": "markdown",
      "metadata": {
        "id": "XNSknHDqVKHb"
      },
      "source": [
        "#### Dla porównania - mix w ramach NB: Categorical+Gaussian"
      ]
    },
    {
      "cell_type": "code",
      "source": [
        "from sklearn.naive_bayes import GaussianNB\n",
        "from NB_ext import MixedNB\n",
        "\n",
        "clNiG = MixedNB(GaussianNB())\n",
        "clNiG.fit(X, y, numeric)\n",
        "y_probs =  xValidation(clNiG, X, y, test_folds)\n",
        "auc = roc_auc_score(y, y_probs)\n",
        "print(f\"auc_MixedNB+GaussianNB (10-x, credit-g): {auc:6.4f}\")   # 0.76963333\n",
        "\n",
        "mtx_w = conf_mtx(y, (y_probs >= pr_apriori).astype(int))\n",
        "print(\"MixedNB+GaussianNB for credit-g (weak, 10-x):\", mtx_w, sep=\"\\n\")\n",
        "\n",
        "mtx_s = conf_mtx(y, (y_probs >= .5).astype(int))\n",
        "print(\"MixedNB+GaussianNB for credit-g (strong, 10-x):\", mtx_s, sep=\"\\n\")\n",
        "print(\"\\nNa przykład:\")\n",
        "clNiG.fit(X, y, numeric)\n",
        "print(clNiG.predict_proba(X[2:3]))\n",
        "print(\"...a w środku\")\n",
        "print(clNiG.claNB.predict_proba(Xc[2:3]))\n",
        "print(clNiG.classifier.predict_proba(Xn[2:3]))\n"
      ],
      "metadata": {
        "colab": {
          "base_uri": "https://localhost:8080/",
          "height": 0
        },
        "id": "vbCUq4Rvp5x9",
        "outputId": "191033fa-c281-40ef-eb6a-70dde6d881a1"
      },
      "execution_count": 67,
      "outputs": [
        {
          "output_type": "stream",
          "name": "stdout",
          "text": [
            "auc_MixedNB+GaussianNB (10-x, credit-g): 0.7818\n",
            "MixedNB+GaussianNB for credit-g (weak, 10-x):\n",
            "[[525 175]\n",
            " [ 90 210]]\n",
            "MixedNB+GaussianNB for credit-g (strong, 10-x):\n",
            "[[603  97]\n",
            " [158 142]]\n",
            "\n",
            "Na przykład:\n",
            "[[0.9882394 0.0117606]]\n",
            "...a w środku\n",
            "[[0.96128406 0.03871594]]\n",
            "[[0.88759917 0.11240083]]\n"
          ]
        }
      ]
    }
  ],
  "metadata": {
    "kernelspec": {
      "display_name": "Python 3",
      "language": "python",
      "name": "python3"
    },
    "language_info": {
      "codemirror_mode": {
        "name": "ipython",
        "version": 3
      },
      "file_extension": ".py",
      "mimetype": "text/x-python",
      "name": "python",
      "nbconvert_exporter": "python",
      "pygments_lexer": "ipython3",
      "version": "3.10.4"
    },
    "colab": {
      "provenance": []
    }
  },
  "nbformat": 4,
  "nbformat_minor": 0
}